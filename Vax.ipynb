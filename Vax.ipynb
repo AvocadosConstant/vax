{
 "cells": [
  {
   "cell_type": "markdown",
   "metadata": {},
   "source": [
    "# Taking a look at the source code of BioNTech's SARS-CoV-2 Vaccine\n",
    "\n",
    "![Coronavirus Genome - xkcd](https://imgs.xkcd.com/comics/coronavirus_genome.png)\n",
    "\n",
    "### Objectives of this presentation/notebook\n",
    "\n",
    "- Help you understand what the mRNA vaccine actually is\n",
    "- Walk through the source code of the vaccine and discuss how it works (and drawing some parallels to software)\n",
    "- Convince you that biochemists are biological script kiddies (in the coolest way possible)\n",
    "\n",
    "#### Fantastic article that inspired/guided this notebook by Bert Hubert: \n",
    "[Reverse Engineering the source code of the BioNTech/Pfizer SARS-CoV-2 Vaccine](https://berthub.eu/articles/posts/reverse-engineering-source-code-of-the-biontech-pfizer-vaccine/)\n",
    "\n",
    "## Some Background\n",
    "\n",
    "#### DNA and RNA\n",
    "\n",
    "- Chains of nucleotides that encode genetic information\n",
    "- Nucleotides: Adenine (A), Cytosine (C), Guanine (G), and Thymine (T) in DNA or Uracil (U) in RNA.\n",
    "\n",
    "<img src=\"https://knowgenetics.org/wp-content/uploads/2012/12/Bases-1-e1354322315291.png\" alt=\"Nucleotides\" style=\"width: 400px;\"/>\n",
    "\n",
    "- DNA/RNA are broken up into logical sections called genes\n",
    "- Genes encode the synthesis of things like proteins\n",
    "\n",
    "#### Proteins\n",
    "\n",
    "- Molecules built from amino acids\n",
    "- A sequence of amino acids will dictate the protein created\n",
    "- Proteins **do** things\n",
    "    - catalysing metabolic reactions\n",
    "    - DNA replication\n",
    "    - responding to stimuli\n",
    "    - providing structure to cells and organisms\n",
    "    - transporting molecules\n",
    "- The physical structure of a protein determines its activity\n",
    "\n",
    "<img src=\"https://upload.wikimedia.org/wikipedia/commons/5/54/Protein_composite.png\" alt=\"Proteins\" style=\"width: 600px;\"/>\n",
    "\n",
    "*From left to right are: immunoglobulin G (IgG, an antibody), hemoglobin, insulin (a hormone), adenylate kinase (an enzyme), and glutamine synthetase (an enzyme).*\n",
    "\n",
    "\n",
    "A Tangentially interesting area of study: Protein folding prediction.\n",
    "\n",
    "> Check out [AlphaFold](https://deepmind.com/blog/article/alphafold-a-solution-to-a-50-year-old-grand-challenge-in-biology) by the DeepMind team from Google.\n",
    "\n",
    "#### Viruses\n",
    "\n",
    "- Viruses are biological entities (not-alive) that replicate inside the living cells of organisms\n",
    "- Viruses consist of\n",
    "    - Genetic material (RNA/DNA): How to create more of itself\n",
    "    - The capsid: A protective coat (proteins/lipids)\n",
    "    - Proteins: Carry out the virus's function\n",
    "\n",
    "#### Adaptive Immune System\n",
    "\n",
    "- Creates immunological memory after an initial response to a specific pathogen, and leads to an enhanced response to future encounters with that pathogen.\n",
    "- Antigens are any molecules present on a pathogen\n",
    "- Antibodies are proteins that are created after a previous encounter with a pathogen\n",
    "- Antibodies bind to the specific antigen they were created to recognize, essentially tagging them\n",
    "\n",
    "#### Vaccines\n",
    "\n",
    "- Vaccines aim to teach your body to recognize some agent as a threat, and prepare for future encounters with them\n",
    "- Inactivated and attenuated vaccines\n",
    "    - Deliver \"killed\" or weakened pathogens\n",
    "- mRNA vaccines\n",
    "    - Work started in the early 1990s\n",
    "    - Delivering genetic information to produce an immune response \n",
    "\n",
    "\n",
    "## Tozinameran\n",
    "*The COVID-19 vaccine developed by BioNTech in cooperation with Pfizer*\n",
    "- January 2020: Development began\n",
    "- April 2020: Trials began \n",
    "- November: Tested on more than 40,000 people \n",
    "- December 2nd: UK is the first to issue emergency use authorization of Tozinameran\n",
    "- December 11th: FDA issues emergency use authorization\n",
    "- December 20th: Over half a million people in Britain had received the vaccine\n",
    "\n",
    "## What's the goal of this BioNTech mRNA vaccine?\n",
    "\n",
    "Teach your cells how to produce a characteristic protein of the virus, and trigger your adaptive immune system to recognize and prepare for when/if you are exposed to the actual virus.\n",
    "\n",
    "## The Source Code\n",
    "\n",
    "[SARS-CoV-2 Virus Genome](https://www.ncbi.nlm.nih.gov/nuccore/NC_045512)\n",
    "\n",
    "[BioNTech mRNA Vaccine Genome](https://mednet-communities.net/inn/db/media/docs/11889.doc) *(.doc file download, be warned)*"
   ]
  },
  {
   "cell_type": "code",
   "execution_count": null,
   "metadata": {},
   "outputs": [],
   "source": [
    "from dna import *\n",
    "\n",
    "import re\n",
    "from IPython.display import display, Markdown\n",
    "\n",
    "vaccine_genome_file = 'res/vaccine_genome.txt'\n",
    "virus_spike_protein_file = 'res/virus_spike_protein_gene.txt'"
   ]
  },
  {
   "cell_type": "code",
   "execution_count": null,
   "metadata": {},
   "outputs": [],
   "source": [
    "display(Markdown('### Let\\'s take a look at what this genome looks like'))\n",
    "\n",
    "with open(vaccine_genome_file) as f:\n",
    "    lines = f.readlines()\n",
    "    for line in lines[:10]:\n",
    "        print(line, end='')\n",
    "    print('\\n...\\n')\n",
    "    for line in lines[len(lines) - 10:]:\n",
    "        print(line, end='')"
   ]
  },
  {
   "cell_type": "code",
   "execution_count": null,
   "metadata": {},
   "outputs": [],
   "source": []
  },
  {
   "cell_type": "markdown",
   "metadata": {},
   "source": [
    "## The layout of the vaccine mRNA\n",
    "\n",
    "<img src=\"res/imgs/mRNA_schematic.png\" alt=\"mRNA Schematic\" style=\"width: 400px;\"/>\n",
    "<img src=\"res/imgs/vaccine_table.png\" alt=\"Vaccine Table of Features\" style=\"width: 600px;\"/>"
   ]
  },
  {
   "cell_type": "code",
   "execution_count": null,
   "metadata": {},
   "outputs": [],
   "source": [
    "# Preprocess the genome txt\n",
    "vaccine_genome = ''\n",
    "with open(vaccine_genome_file) as f:\n",
    "    # Remove whitespace and line numbers\n",
    "    vaccine_genome = re.sub(r'(\\d|\\s)', '', ''.join(f.readlines()))"
   ]
  },
  {
   "cell_type": "markdown",
   "metadata": {},
   "source": [
    "### The 5' Cap\n",
    "\n",
    "A sequence of two nucleotides that are chemically different from the normal bases."
   ]
  },
  {
   "cell_type": "code",
   "execution_count": null,
   "metadata": {},
   "outputs": [],
   "source": [
    "cap = Gene(vaccine_genome[0:2])\n",
    "print(cap)"
   ]
  },
  {
   "cell_type": "markdown",
   "metadata": {},
   "source": [
    "\n",
    "#### Functions include:\n",
    "\n",
    "**Promoting translation**\n",
    "- Convince the ribosomes to translate this mRNA into proteins\n",
    "**Prevent degradation**\n",
    "- Prevents exonucleases in the cell from degrading the mRNA\n",
    "**Disguises the mRNA as coming from the nucleus**\n",
    "- This cap marks the mRNA as if it were a normal and real sequence that was produced by the cell's nucleus\n",
    "\n",
    "\n",
    "[Bert](https://berthub.eu/articles/posts/reverse-engineering-source-code-of-the-biontech-pfizer-vaccine/) compares it to the shebang (`#!`) in a UNIX scripts.\n",
    "\n",
    "**TL;DR**: Makes the mRNA look like a real mRNA produced by the cell so the cell machinery will use it to create proteins"
   ]
  },
  {
   "cell_type": "markdown",
   "metadata": {},
   "source": [
    "## The 5' Untranslated Region\n",
    "Non-coding metadata that directs how the mRNA should be used.  "
   ]
  },
  {
   "cell_type": "code",
   "execution_count": null,
   "metadata": {},
   "outputs": [],
   "source": [
    "five_prime_utr = Gene(vaccine_genome[2:54])\n",
    "print(five_prime_utr)"
   ]
  },
  {
   "cell_type": "markdown",
   "metadata": {},
   "source": [
    "*Ignore the amino acids, this is a non-translated section*\n",
    "\n",
    "I thought that the nucleotides consisted of `A, T, G, U`, what is `Ψ`?\n",
    "\n",
    "> `Ψ` is pseudouridine: 1-methyl-3'-pseudouridylyl\n",
    "\n",
    "Karikó and Weissman, 2005: [Suppression of RNA recognition by Toll-like receptors: the impact of nucleoside modification and the evolutionary origin of RNA](https://pubmed.ncbi.nlm.nih.gov/16111635/)\n",
    "> Groundbreaking paper that showed that using modified nucleosides suppresses the immune system's response to mRNA\n",
    "\n",
    "2020: [N 1-Methylpseudouridine substitution enhances the performance of synthetic mRNA switches in cells](https://pubmed.ncbi.nlm.nih.gov/32090264/)\n",
    "> Synthetic messenger RNA (mRNA) tools often use pseudouridine and 5-methyl cytidine as substitutions for uridine and cytidine to avoid the immune response and cytotoxicity induced by introducing mRNA into cells.\n",
    "\n",
    "> Here we show that synthetic mRNA switches containing N1-methylpseudouridine (m1Ψ) as a substitution of uridine substantially out-performed all other modified bases studied, exhibiting enhanced microRNA and protein sensitivity, better cell-type separation ability, and comparably low immune stimulation."
   ]
  },
  {
   "cell_type": "markdown",
   "metadata": {},
   "source": [
    "## Onto the Coding Sequence\n",
    "\n",
    "The coding sequence is the portion of the mRNA that is translated into protein.\n",
    "\n",
    "\n",
    "### Signal Sequence\n",
    "The first part of the coding sequence is the signal sequence"
   ]
  },
  {
   "cell_type": "code",
   "execution_count": null,
   "metadata": {},
   "outputs": [],
   "source": [
    "sig = Gene(vaccine_genome[54:102])\n",
    "print(sig)"
   ]
  },
  {
   "cell_type": "markdown",
   "metadata": {},
   "source": [
    "The signal sequence is \"metadata\" that tell the cell where the resulting protein should be delivered after it's constructed.\n",
    "\\[[Ref](https://en.wikipedia.org/wiki/Signal_peptide#Function_(translocation))\\]\n",
    "\n",
    "The signal sequence in this vaccine is \"identical\" to the signal sequence in the actual virus gene."
   ]
  },
  {
   "cell_type": "markdown",
   "metadata": {},
   "source": [
    "So what protein are we actually constructing here?\n",
    "\n",
    "### The Spike Protein\n",
    "<img src=\"https://images.theconversation.com/files/373899/original/file-20201209-19-1lujbpa.jpg?ixlib=rb-1.1.0&q=45&auto=format&w=754&h=595&fit=crop&dpr=1\" alt=\"What the virus looks like\" style=\"width: 400px;\"/>"
   ]
  },
  {
   "cell_type": "code",
   "execution_count": null,
   "metadata": {},
   "outputs": [],
   "source": [
    "spike_protein = vaccine_genome[54:3879]\n",
    "print(spike_protein)"
   ]
  },
  {
   "cell_type": "code",
   "execution_count": null,
   "metadata": {},
   "outputs": [],
   "source": [
    "virus_spike = ''\n",
    "with open(virus_spike_protein_file) as f:\n",
    "    virus_spike = re.sub(r'(\\d|\\s)', '', ''.join(f.readlines()))\n",
    "print(virus_spike)"
   ]
  },
  {
   "cell_type": "code",
   "execution_count": null,
   "metadata": {},
   "outputs": [],
   "source": [
    "virus_gene = Gene(virus_spike)\n",
    "vaccine_gene = Gene(spike_protein)\n",
    "\n",
    "display(Markdown('### Let\\'s take a look at some of the gene comparison'))\n",
    "\n",
    "# Start\n",
    "virus_gene.visual_compare(vaccine_gene, end=66)\n",
    "\n",
    "# End\n",
    "virus_gene.visual_compare(vaccine_gene, start=3756)"
   ]
  },
  {
   "cell_type": "markdown",
   "metadata": {},
   "source": [
    "### What do we notice?\n",
    "\n",
    "- Some bases are different\n",
    "- The codons map to the same amino acids\n",
    "\n",
    "#### How were the different bases changed?\n",
    "\n",
    "> The vaccine gene has many more `C`s and `G`s\n",
    "\n",
    "2018: [Optimization of mRNA translation and stability](https://www.nature.com/articles/nrd.2017.243)\n",
    "> Enrichment of G:C content constitutes another form of sequence optimization that has been shown to increase steady-state mRNA levels\n",
    "\n",
    "2006: [High Guanine and Cytosine Content Increases mRNA Levels in Mammalian Cells](https://www.ncbi.nlm.nih.gov/pmc/articles/PMC1463026/)\n",
    "> We performed transient and stable transfections of mammalian cells with GC-rich and GC-poor versions of Hsp70, green fluorescent protein, and IL2 genes. The GC-rich genes were expressed several-fold to over a 100-fold more efficiently than their GC-poor counterparts.\n"
   ]
  },
  {
   "cell_type": "code",
   "execution_count": null,
   "metadata": {},
   "outputs": [],
   "source": [
    "display(Markdown('### Let\\'s look at the entire gene comparison'))\n",
    "virus_gene.visual_compare(vaccine_gene)"
   ]
  },
  {
   "cell_type": "code",
   "execution_count": null,
   "metadata": {},
   "outputs": [],
   "source": [
    "virus_gene.visual_compare(vaccine_gene, start=2949, end=2967)"
   ]
  },
  {
   "cell_type": "markdown",
   "metadata": {},
   "source": [
    "This segment shows the only amino acid changes from the virus, the **Lysine (K)** and **Valine (V)** were changed to two **Prolines (P)**.\n",
    "\n",
    "<img src=\"https://acs-h.assetsadobe.com/is/image//content/dam/cen/98/38/WEB/09838-feature1-spike.jpg/?$responsive$&wid=700&qlt=90,0&resMode=sharp2\" alt=\"Prefusion and Postfusion\" style=\"width: 400px;\"/>\n",
    "\n",
    "\n",
    "Cryo-EM structure of the 2019-nCoV spike in the prefusion conformation\n",
    "https://science.sciencemag.org/content/367/6483/1260\n",
    "\n",
    "Distinct conformational states of SARS-CoV-2 spike protein\n",
    "https://science.sciencemag.org/content/369/6511/1586\n",
    "\n",
    "2017: [Immunogenicity and structures of a rationally designed prefusion MERS-CoV spike antigen](https://www.pnas.org/content/114/35/E7348)\n",
    "> Thus, the introduction of two consecutive proline residues at the beginning of the central helix seems to be a general strategy for retaining betacoronavirus S proteins in the prototypical prefusion conformation.\n"
   ]
  },
  {
   "cell_type": "code",
   "execution_count": null,
   "metadata": {},
   "outputs": [],
   "source": [
    "poly_a = Gene(vaccine_genome[4174:])\n",
    "print(poly_a)"
   ]
  },
  {
   "cell_type": "markdown",
   "metadata": {},
   "source": [
    "### Polyadenylation\n",
    "\n",
    "> The poly-A tail is a long chain of adenine nucleotides that is added to a messenger RNA (mRNA) molecule during RNA processing to increase the stability of the molecule. \n",
    "\n",
    ">  The poly-A tail makes the RNA molecule more stable and prevents its degradation. \n",
    "\n",
    "\\[[Ref](https://www.nature.com/scitable/definition/poly-a-tail-276/)\\]\n",
    "\n",
    "The tail is shortened over time by exonucleases, and, when it is short enough, the mRNA is enzymatically degraded.\n",
    "\n",
    "\n",
    "#### What are the non-As in the poly(A)-tail?\n",
    "\n",
    "##### 2014: BioNTech Patent\n",
    "\n",
    "[Stabilization of poly(a) sequence encoding dna sequences](https://patents.google.com/patent/US20170166905A1/en)\n",
    "\n",
    "> Introduction of a 10 nucleotide random sequence in this sensitive region led to an **increase of the poly(dA:dT) stability**. Constructs with 30 or 40 adenosine nucleotides, followed by the linker sequence and another 70 or 60 adenosines (A30L70 and A40L60) respectively, resulted in an poly(dA:dT) instability of only 3-4% in E. coli.\n",
    "\n",
    "> A 10 nucleotide linker (L) was inserted in the poly(dA:dT) stretch in different positions of the poly(dA:dT) sequence. The linker sequence (GCATATGACT (SEQ ID NO: 2)) was chosen in a way to contain a **balanced contribution of all 4 nucleotides** (2×G, 2×C, 3×T and 3×A).\n",
    "\n",
    "> Introduction of linker sequences in this sequence area led to a further increases of the poly(dA:dT) stability by at least **2-fold** as compared to the other constructs\n",
    "\n"
   ]
  },
  {
   "cell_type": "markdown",
   "metadata": {},
   "source": [
    "## FAQ\n",
    "\n",
    "Does the vaccine reprogram your cells or change your DNA?\n",
    "> No, it provides a recipe that is used by your cell's machinery to create proteins characteristic of the virus so that your adaptive immune system can prepare for the virus.\n",
    "\n",
    "Why does the vaccine have to teach your cell how to create the spike protein, can't we just deliver the protein itself?\n",
    "> By just delivering the source, your cells can produce far more protein than could be delivered in an injection. Additionally, the protein itself isn't enough to trigger a significant immune response, whereas the mRNA hijacking the cells machinery to produce massive amounts of the protein is enough to do so.\n",
    "\n",
    "What \"editor\" do the vaccine developers actually use? How do they go from an abstract sequence of letters to a piece of mRNA?\n",
    "> They use \"DNA printers\" like the [Codex DNA BioXp 3200 DNA printer](https://codexdna.com/products/bioxp-system/). See [PCR](https://en.wikipedia.org/wiki/Polymerase_chain_reaction) for more."
   ]
  }
 ],
 "metadata": {
  "kernelspec": {
   "display_name": "Python 3",
   "language": "python",
   "name": "python3"
  },
  "language_info": {
   "codemirror_mode": {
    "name": "ipython",
    "version": 3
   },
   "file_extension": ".py",
   "mimetype": "text/x-python",
   "name": "python",
   "nbconvert_exporter": "python",
   "pygments_lexer": "ipython3",
   "version": "3.6.9"
  }
 },
 "nbformat": 4,
 "nbformat_minor": 4
}
